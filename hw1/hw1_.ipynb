{
 "cells": [
  {
   "cell_type": "markdown",
   "metadata": {},
   "source": [
    "# Домашнее задание №1\n",
    "\n",
    "##### Гордеев Никита, БКЛ-182"
   ]
  },
  {
   "cell_type": "markdown",
   "metadata": {},
   "source": [
    "В качестве источника людских мнений я выбрал игровой сервис Steam. При беглом осмыслении мною обнаружились следующие плюсы этой платформы:\n",
    "\n",
    "+ компьютерные игры - это веселее и интереснее, чем утюги и смартфоны Huawei (но это субъективно!);\n",
    "+ Steam - сервис с огромным количеством пользователей, и найти продукты, число отзывов к которым превышает несколько тысяч (причём как отрицательных, так и положительных) - легче лёгкого;\n",
    "+ легко конструировать ссылки, сразу указывая в них язык рецензий и их характер.\n",
    "\n",
    "Недостатки тоже имеются:\n",
    "\n",
    "+ отзывы на медиа-продукты почти всегда чуть больше отдают художественностью, пользователи часто стараются выделиться остроумностью (иронизируют), красивым слогом, коммуницируют с сообществом (например, рефереруют к противоположным мнениям) и т. д. - всё это, предположительно, будет снижать accuracy;\n",
    "+ словники, составленные по конкретным играм (особенно имеющим большой фандом и насыщенную вселенную), нельзя применять к другим нефраншизным играм, потому что они будут изобиловать уникальной лексикой, - но мы и не будем!\n",
    "+ на Steam отзывы подгружаются по мере скроллинга страницы - будем пользоваться Selenium;\n",
    "+ деление по шкале оценки бинарное, а это значит, что смешанные отзывы у нас попадут в одну из категорий.\n",
    "\n",
    "Работать будем с англоязычными отзывами на игру The Witcher 3: Wild Hunt."
   ]
  },
  {
   "cell_type": "code",
   "execution_count": 178,
   "metadata": {},
   "outputs": [
    {
     "data": {
      "text/html": [
       "<img src=\"https://cdn.escapistmagazine.com/media/global/images/library/deriv/597/597629.jpg\" width=\"900\"/>"
      ],
      "text/plain": [
       "<IPython.core.display.Image object>"
      ]
     },
     "metadata": {},
     "output_type": "display_data"
    }
   ],
   "source": []
  },
  {
   "cell_type": "markdown",
   "metadata": {},
   "source": [
    "Импортируем нужные модули."
   ]
  },
  {
   "cell_type": "code",
   "execution_count": 124,
   "metadata": {},
   "outputs": [],
   "source": [
    "import spacy\n",
    "import re\n",
    "\n",
    "from sklearn.metrics import accuracy_score\n",
    "from selenium import webdriver\n",
    "from selenium.webdriver.common.keys import Keys\n",
    "from selenium.webdriver.support.ui import WebDriverWait\n",
    "from collections import Counter\n",
    "from termcolor import colored\n",
    "from IPython.display import Image"
   ]
  },
  {
   "cell_type": "markdown",
   "metadata": {},
   "source": [
    "Функция, составляющая ссылки на странички с положительными и отрицательными отзывами. На вход берутся язык, на котором должны быть отзывы, и ID интересной нам игры."
   ]
  },
  {
   "cell_type": "code",
   "execution_count": 143,
   "metadata": {},
   "outputs": [],
   "source": [
    "def make_links(game_id, language):\n",
    "    \n",
    "    pos = 'positivereviews'\n",
    "    neg = 'negativereviews'\n",
    "    first_part = 'https://steamcommunity.com/app/'\n",
    "    second_part = '/?browsefilter=toprated&snr=1_5_100010_&filterLanguage='\n",
    "    link_pos = first_part + game_id + '/' + pos + second_part + '&p=1'\n",
    "    link_neg = first_part + game_id + '/' + neg + second_part + '&p=1'\n",
    "        \n",
    "    return link_pos, link_neg"
   ]
  },
  {
   "cell_type": "markdown",
   "metadata": {},
   "source": [
    "Далее работаем с Selenium. Открываем полученные ссылки и прокручиваем страницы вниз, пока не получим нужное количество отзывов. Брать будем по 2000 рецензий для составления словарей и по 100 для тестирования нашего сентимент-анализа. Выкачиваем."
   ]
  },
  {
   "cell_type": "code",
   "execution_count": 144,
   "metadata": {},
   "outputs": [],
   "source": [
    "def get_reviews(number, link):\n",
    "\n",
    "    driver = webdriver.Chrome('./chromedriver')\n",
    "    driver.get(link)\n",
    "    ActionChains = webdriver.ActionChains\n",
    "    actions = ActionChains(driver)\n",
    "    element = []\n",
    "    reviews = []\n",
    "    # Убираем окно с предупреждением о контенте 18+, если есть:\n",
    "    check_age = WebDriverWait(driver, 10).until(lambda x: x.find_element_by_id('age_gate_btn_continue')) \n",
    "    if check_age != []:\n",
    "        actions.click(check_age)\n",
    "        actions.perform()\n",
    "    # Скроллим вниз, пока не получим нужное количество отзывов или не упрёмся в тупик:\n",
    "    while element == [] and len(reviews) <= number:\n",
    "        driver.execute_script(\"window.scrollTo(0, document.body.scrollHeight);\")\n",
    "        element = driver.find_elements_by_link_text('''поделитесь скриншотом, сделайте видео или начните новое обсуждение!''')\n",
    "        reviews = driver.find_elements_by_class_name('apphub_CardTextContent')\n",
    "    for i in range(len(reviews)):\n",
    "        reviews[i] = reviews[i].get_attribute('innerHTML')\n",
    "    driver.close()\n",
    "    \n",
    "    return reviews"
   ]
  },
  {
   "cell_type": "markdown",
   "metadata": {},
   "source": [
    "При помощи регулярных выражений убираем всё лишнее, лемматизируем пакетом SpaCy, получаем два списка слов, употреблённых в положительных или отрицательных отзывах."
   ]
  },
  {
   "cell_type": "code",
   "execution_count": 145,
   "metadata": {},
   "outputs": [],
   "source": [
    "def get_tokens(responses):\n",
    "    \n",
    "    nlp = spacy.load('en', disable=['parser', 'ner'])\n",
    "    voc = []\n",
    "    reviews = responses\n",
    "    for i in range(len(reviews)):\n",
    "        if re.search('(\\t{16})(.+)', reviews[i]):\n",
    "            review = re.search('(\\t{16})(.+)', reviews[i]).group(2)\n",
    "            review = re.sub('<.*?>', ' ', review)\n",
    "            review = re.sub('(?:([^-A-Za-z ])|([^a-z]-[^a-z]))', ' ', review).lower()\n",
    "            doc = nlp(review)\n",
    "            for token in doc:\n",
    "                if token.lemma_.isalpha():\n",
    "                    voc.append(token.lemma_)\n",
    "                    \n",
    "    # Эти две строчки, исключающие из списков встретившиеся по одному разу леммы, убили accuracy для отр. отзывов.\n",
    "    #counter = Counter(voc)\n",
    "    #voc =  [x for x in xs if counter[x] > 1]\n",
    "\n",
    "    return voc"
   ]
  },
  {
   "cell_type": "markdown",
   "metadata": {},
   "source": [
    "Убираем из списков слова, употреблённые в обеих категориях отзывов:"
   ]
  },
  {
   "cell_type": "code",
   "execution_count": 146,
   "metadata": {},
   "outputs": [],
   "source": [
    "def make_lists(voc_pos, voc_neg):\n",
    "    \n",
    "    words_pos = []\n",
    "    words_neg = []\n",
    "    for word in voc_pos:\n",
    "        if word not in voc_neg:\n",
    "            words_pos.append(word)\n",
    "    for word in voc_neg:\n",
    "        if word not in voc_pos:\n",
    "            words_neg.append(word)\n",
    "            \n",
    "    return words_pos, words_neg\n",
    "    "
   ]
  },
  {
   "cell_type": "markdown",
   "metadata": {},
   "source": [
    "Предсказываем! Аналогичным способом вычленяем из отзыва список лемм и сравниваем его с двумя полученными словариками. Если слов их положительного словаря больше, чем из отрицательного - значит, отзыв положительный, и наоборот. В случае совпадения числа положительных и отрицательных слова, помечаем отзыв как \"neutral\" и признаём своё поражение. На выходе угаданное настроение отзывов будет подсвечиваться зелёным, неверное - красным"
   ]
  },
  {
   "cell_type": "code",
   "execution_count": 162,
   "metadata": {},
   "outputs": [],
   "source": [
    "def predict(tor, test_reviews, words_pos, words_neg):\n",
    "    \n",
    "    nlp = spacy.load('en', disable=['parser', 'ner'])\n",
    "    results = []\n",
    "    for i in range(len(test_reviews)):\n",
    "        pos_points = 0\n",
    "        neg_points = 0\n",
    "        voc = []\n",
    "        review = re.search('(\\t{16})(.+)', test_reviews[i]).group(2)\n",
    "        review = re.sub('<.*?>', ' ', review)\n",
    "        review = re.sub(\"(?:([^-A-Za-z' ])|([^a-z]-[^a-z]))\", ' ', review).lower()\n",
    "        doc = nlp(review)\n",
    "        for token in doc:\n",
    "            if token.lemma_.isalpha():\n",
    "                voc.append(token.lemma_)\n",
    "        for j in voc:\n",
    "            if j in words_pos:\n",
    "                pos_points += 1\n",
    "            elif j in words_neg:\n",
    "                neg_points += 1\n",
    "        if pos_points > neg_points:\n",
    "            r = 'positive'\n",
    "            if r == tor:\n",
    "                print(colored(r, 'green'))\n",
    "            else:\n",
    "                print(colored(r, 'red'))\n",
    "            results.append(r)\n",
    "        elif neg_points > pos_points:\n",
    "            r = 'negative'\n",
    "            if r == tor:\n",
    "                print(colored(r, 'green'))\n",
    "            else:\n",
    "                print(colored(r, 'red'))\n",
    "            results.append(r)\n",
    "        else:\n",
    "            print(colored('neutral', 'red'))\n",
    "            results.append('neutral')\n",
    "            \n",
    "    return results"
   ]
  },
  {
   "cell_type": "markdown",
   "metadata": {},
   "source": [
    "Функция подсчёта **accuracy** наших результатов."
   ]
  },
  {
   "cell_type": "code",
   "execution_count": 159,
   "metadata": {},
   "outputs": [],
   "source": [
    "def compute_accuracy(tor, results):\n",
    "    \n",
    "    reference = []\n",
    "    for i in range(100):\n",
    "        reference.append(tor)\n",
    "    acc = accuracy_score(reference, results)\n",
    "    \n",
    "    print('Accuracy score is', acc, 'for', tor, 'reviews.')"
   ]
  },
  {
   "cell_type": "markdown",
   "metadata": {},
   "source": [
    "Запускаем программу."
   ]
  },
  {
   "cell_type": "code",
   "execution_count": 130,
   "metadata": {},
   "outputs": [],
   "source": [
    "game_id = '292030'\n",
    "language = 'english'\n",
    "number = 2090\n",
    "\n",
    "link_pos, link_neg = make_links(game_id, language)\n",
    "reviews_pos, reviews_neg = get_reviews(number, link_pos), get_reviews(number, link_neg)"
   ]
  },
  {
   "cell_type": "code",
   "execution_count": 149,
   "metadata": {},
   "outputs": [],
   "source": [
    "voc_pos, voc_neg = get_tokens(reviews_pos[100:]), get_tokens(reviews_neg[100:])\n",
    "words_pos, words_neg = make_lists(voc_pos, voc_neg)"
   ]
  },
  {
   "cell_type": "code",
   "execution_count": 166,
   "metadata": {},
   "outputs": [
    {
     "name": "stdout",
     "output_type": "stream",
     "text": [
      "\u001b[32mpositive\u001b[0m\n",
      "\u001b[31mneutral\u001b[0m\n",
      "\u001b[31mneutral\u001b[0m\n",
      "\u001b[31mneutral\u001b[0m\n",
      "\u001b[31mneutral\u001b[0m\n",
      "\u001b[31mneutral\u001b[0m\n",
      "\u001b[31mneutral\u001b[0m\n",
      "\u001b[32mpositive\u001b[0m\n",
      "\u001b[32mpositive\u001b[0m\n",
      "\u001b[31mneutral\u001b[0m\n",
      "\u001b[31mneutral\u001b[0m\n",
      "\u001b[32mpositive\u001b[0m\n",
      "\u001b[32mpositive\u001b[0m\n",
      "\u001b[31mneutral\u001b[0m\n",
      "\u001b[32mpositive\u001b[0m\n",
      "\u001b[31mneutral\u001b[0m\n",
      "\u001b[32mpositive\u001b[0m\n",
      "\u001b[32mpositive\u001b[0m\n",
      "\u001b[31mneutral\u001b[0m\n",
      "\u001b[32mpositive\u001b[0m\n",
      "\u001b[31mneutral\u001b[0m\n",
      "\u001b[32mpositive\u001b[0m\n",
      "\u001b[31mneutral\u001b[0m\n",
      "\u001b[31mneutral\u001b[0m\n",
      "\u001b[32mpositive\u001b[0m\n",
      "\u001b[31mneutral\u001b[0m\n",
      "\u001b[31mneutral\u001b[0m\n",
      "\u001b[32mpositive\u001b[0m\n",
      "\u001b[32mpositive\u001b[0m\n",
      "\u001b[32mpositive\u001b[0m\n",
      "\u001b[31mneutral\u001b[0m\n",
      "\u001b[31mneutral\u001b[0m\n",
      "\u001b[31mneutral\u001b[0m\n",
      "\u001b[32mpositive\u001b[0m\n",
      "\u001b[31mneutral\u001b[0m\n",
      "\u001b[32mpositive\u001b[0m\n",
      "\u001b[32mpositive\u001b[0m\n",
      "\u001b[32mpositive\u001b[0m\n",
      "\u001b[32mpositive\u001b[0m\n",
      "\u001b[32mpositive\u001b[0m\n",
      "\u001b[31mneutral\u001b[0m\n",
      "\u001b[31mneutral\u001b[0m\n",
      "\u001b[31mneutral\u001b[0m\n",
      "\u001b[32mpositive\u001b[0m\n",
      "\u001b[31mneutral\u001b[0m\n",
      "\u001b[31mneutral\u001b[0m\n",
      "\u001b[32mpositive\u001b[0m\n",
      "\u001b[31mneutral\u001b[0m\n",
      "\u001b[32mpositive\u001b[0m\n",
      "\u001b[32mpositive\u001b[0m\n",
      "\u001b[31mneutral\u001b[0m\n",
      "\u001b[31mneutral\u001b[0m\n",
      "\u001b[31mneutral\u001b[0m\n",
      "\u001b[32mpositive\u001b[0m\n",
      "\u001b[31mnegative\u001b[0m\n",
      "\u001b[32mpositive\u001b[0m\n",
      "\u001b[31mneutral\u001b[0m\n",
      "\u001b[31mneutral\u001b[0m\n",
      "\u001b[32mpositive\u001b[0m\n",
      "\u001b[31mneutral\u001b[0m\n",
      "\u001b[31mneutral\u001b[0m\n",
      "\u001b[31mneutral\u001b[0m\n",
      "\u001b[32mpositive\u001b[0m\n",
      "\u001b[32mpositive\u001b[0m\n",
      "\u001b[31mneutral\u001b[0m\n",
      "\u001b[31mneutral\u001b[0m\n",
      "\u001b[32mpositive\u001b[0m\n",
      "\u001b[31mneutral\u001b[0m\n",
      "\u001b[32mpositive\u001b[0m\n",
      "\u001b[32mpositive\u001b[0m\n",
      "\u001b[31mneutral\u001b[0m\n",
      "\u001b[31mneutral\u001b[0m\n",
      "\u001b[31mneutral\u001b[0m\n",
      "\u001b[31mneutral\u001b[0m\n",
      "\u001b[31mneutral\u001b[0m\n",
      "\u001b[32mpositive\u001b[0m\n",
      "\u001b[32mpositive\u001b[0m\n",
      "\u001b[32mpositive\u001b[0m\n",
      "\u001b[32mpositive\u001b[0m\n",
      "\u001b[32mpositive\u001b[0m\n",
      "\u001b[31mneutral\u001b[0m\n",
      "\u001b[31mneutral\u001b[0m\n",
      "\u001b[31mneutral\u001b[0m\n",
      "\u001b[32mpositive\u001b[0m\n",
      "\u001b[31mneutral\u001b[0m\n",
      "\u001b[31mneutral\u001b[0m\n",
      "\u001b[32mpositive\u001b[0m\n",
      "\u001b[32mpositive\u001b[0m\n",
      "\u001b[32mpositive\u001b[0m\n",
      "\u001b[31mnegative\u001b[0m\n",
      "\u001b[31mneutral\u001b[0m\n",
      "\u001b[31mneutral\u001b[0m\n",
      "\u001b[31mneutral\u001b[0m\n",
      "\u001b[31mneutral\u001b[0m\n",
      "\u001b[31mneutral\u001b[0m\n",
      "\u001b[31mneutral\u001b[0m\n",
      "\u001b[32mpositive\u001b[0m\n",
      "\u001b[31mneutral\u001b[0m\n",
      "\u001b[32mpositive\u001b[0m\n",
      "\u001b[32mpositive\u001b[0m\n",
      "___________________________________________________________\n",
      "\u001b[31mneutral\u001b[0m\n",
      "\u001b[32mnegative\u001b[0m\n",
      "\u001b[31mneutral\u001b[0m\n",
      "\u001b[32mnegative\u001b[0m\n",
      "\u001b[32mnegative\u001b[0m\n",
      "\u001b[32mnegative\u001b[0m\n",
      "\u001b[32mnegative\u001b[0m\n",
      "\u001b[31mneutral\u001b[0m\n",
      "\u001b[31mneutral\u001b[0m\n",
      "\u001b[31mpositive\u001b[0m\n",
      "\u001b[31mneutral\u001b[0m\n",
      "\u001b[32mnegative\u001b[0m\n",
      "\u001b[31mpositive\u001b[0m\n",
      "\u001b[32mnegative\u001b[0m\n",
      "\u001b[32mnegative\u001b[0m\n",
      "\u001b[32mnegative\u001b[0m\n",
      "\u001b[32mnegative\u001b[0m\n",
      "\u001b[32mnegative\u001b[0m\n",
      "\u001b[32mnegative\u001b[0m\n",
      "\u001b[32mnegative\u001b[0m\n",
      "\u001b[32mnegative\u001b[0m\n",
      "\u001b[31mpositive\u001b[0m\n",
      "\u001b[32mnegative\u001b[0m\n",
      "\u001b[32mnegative\u001b[0m\n",
      "\u001b[31mpositive\u001b[0m\n",
      "\u001b[31mneutral\u001b[0m\n",
      "\u001b[31mneutral\u001b[0m\n",
      "\u001b[32mnegative\u001b[0m\n",
      "\u001b[32mnegative\u001b[0m\n",
      "\u001b[31mneutral\u001b[0m\n",
      "\u001b[32mnegative\u001b[0m\n",
      "\u001b[31mpositive\u001b[0m\n",
      "\u001b[31mneutral\u001b[0m\n",
      "\u001b[32mnegative\u001b[0m\n",
      "\u001b[32mnegative\u001b[0m\n",
      "\u001b[31mpositive\u001b[0m\n",
      "\u001b[32mnegative\u001b[0m\n",
      "\u001b[32mnegative\u001b[0m\n",
      "\u001b[31mpositive\u001b[0m\n",
      "\u001b[32mnegative\u001b[0m\n",
      "\u001b[31mneutral\u001b[0m\n",
      "\u001b[31mneutral\u001b[0m\n",
      "\u001b[31mneutral\u001b[0m\n",
      "\u001b[32mnegative\u001b[0m\n",
      "\u001b[31mpositive\u001b[0m\n",
      "\u001b[31mneutral\u001b[0m\n",
      "\u001b[32mnegative\u001b[0m\n",
      "\u001b[32mnegative\u001b[0m\n",
      "\u001b[31mneutral\u001b[0m\n",
      "\u001b[31mneutral\u001b[0m\n",
      "\u001b[32mnegative\u001b[0m\n",
      "\u001b[31mneutral\u001b[0m\n",
      "\u001b[31mneutral\u001b[0m\n",
      "\u001b[31mneutral\u001b[0m\n",
      "\u001b[32mnegative\u001b[0m\n",
      "\u001b[32mnegative\u001b[0m\n",
      "\u001b[31mneutral\u001b[0m\n",
      "\u001b[31mneutral\u001b[0m\n",
      "\u001b[31mpositive\u001b[0m\n",
      "\u001b[32mnegative\u001b[0m\n",
      "\u001b[31mpositive\u001b[0m\n",
      "\u001b[31mneutral\u001b[0m\n",
      "\u001b[31mneutral\u001b[0m\n",
      "\u001b[31mneutral\u001b[0m\n",
      "\u001b[31mneutral\u001b[0m\n",
      "\u001b[32mnegative\u001b[0m\n",
      "\u001b[31mneutral\u001b[0m\n",
      "\u001b[32mnegative\u001b[0m\n",
      "\u001b[31mneutral\u001b[0m\n",
      "\u001b[31mpositive\u001b[0m\n",
      "\u001b[31mneutral\u001b[0m\n",
      "\u001b[31mpositive\u001b[0m\n",
      "\u001b[31mneutral\u001b[0m\n",
      "\u001b[32mnegative\u001b[0m\n",
      "\u001b[32mnegative\u001b[0m\n",
      "\u001b[32mnegative\u001b[0m\n",
      "\u001b[32mnegative\u001b[0m\n",
      "\u001b[32mnegative\u001b[0m\n",
      "\u001b[32mnegative\u001b[0m\n",
      "\u001b[31mneutral\u001b[0m\n",
      "\u001b[32mnegative\u001b[0m\n",
      "\u001b[31mneutral\u001b[0m\n",
      "\u001b[31mneutral\u001b[0m\n",
      "\u001b[32mnegative\u001b[0m\n",
      "\u001b[31mneutral\u001b[0m\n",
      "\u001b[31mneutral\u001b[0m\n",
      "\u001b[31mneutral\u001b[0m\n",
      "\u001b[32mnegative\u001b[0m\n",
      "\u001b[32mnegative\u001b[0m\n",
      "\u001b[32mnegative\u001b[0m\n",
      "\u001b[31mneutral\u001b[0m\n",
      "\u001b[31mneutral\u001b[0m\n",
      "\u001b[31mneutral\u001b[0m\n",
      "\u001b[31mneutral\u001b[0m\n",
      "\u001b[32mnegative\u001b[0m\n",
      "\u001b[31mneutral\u001b[0m\n",
      "\u001b[31mpositive\u001b[0m\n",
      "\u001b[32mnegative\u001b[0m\n",
      "\u001b[32mnegative\u001b[0m\n",
      "\u001b[31mpositive\u001b[0m\n"
     ]
    }
   ],
   "source": [
    "pos, neg = 'positive', 'negative'\n",
    "\n",
    "results_pos = predict(pos, reviews_pos[:99], words_pos, words_neg)\n",
    "print('___________________________________________________________')\n",
    "results_neg = predict(neg, reviews_neg[:99], words_pos, words_neg)"
   ]
  },
  {
   "cell_type": "markdown",
   "metadata": {},
   "source": [
    "Высчитываем точность."
   ]
  },
  {
   "cell_type": "code",
   "execution_count": 167,
   "metadata": {},
   "outputs": [
    {
     "name": "stdout",
     "output_type": "stream",
     "text": [
      "Accuracy score is 0.44 for positive reviews.\n",
      "Accuracy score is 0.47 for negative reviews.\n"
     ]
    }
   ],
   "source": [
    "compute_accuracy(pos, results_pos)\n",
    "compute_accuracy(neg, results_neg)"
   ]
  },
  {
   "cell_type": "markdown",
   "metadata": {},
   "source": [
    "### Каков наш итог?\n",
    "\n",
    "Как видим, точность предсказания оказалось довольно низкой. Объяснений можно предложить много:\n",
    "\n",
    "+ специфичность отзывов на медиа-продукты (слэнг и ориентиорованность на самовыражение), их неоднородность (как по длине, так и по содержанию);\n",
    "+ особенности выбранной нами игры;\n",
    "+ большая выборка рецензий, как для обучения, так и для тестинга;\n",
    "+ бинарное деление даже для смешанных отзывов - крайние значения шкал отфильтровывают намного более ярко окрашенные по характеру мнения;\n",
    "\n",
    "**NB!** Кстати вполне возможно, что в основном неоднозначные отзывы у нас и попали в категорию \"neutral\"!\n",
    "+ ну и сам метод довольно грубый, что скрывать..."
   ]
  },
  {
   "cell_type": "markdown",
   "metadata": {},
   "source": [
    "### Как улучшить?\n",
    "\n",
    "1. Можно автоматизировать поиск индексов игр, чтобы мы давали на вход не рандомный набор цифр, а название продукта.\n",
    "2. Раз уж у нас есть возможность выбирать язык рецензий, можно сделать аналогичные функции добычи токенов для русского языка.\n",
    "3. Можно попробовать учитывать отрицания с помощью отдельной функции. Например, ввести отдельный коэффициент, показывающий, насколько отзыв насыщен отрицательными частицами и учитывать его в предсказаниях.\n",
    "4. Можно отфильтровывать наименее содержательные отзывы. Допустим, убирать все рецензии, содержащие меньше 10 слов.\n",
    "5. При помощи Counter'a выделить наиболее частотные маркеры каждого типа отзывов и начислять за их наличие больше баллов, чем за редкие (т. е. придать веса).\n"
   ]
  },
  {
   "cell_type": "markdown",
   "metadata": {},
   "source": [
    "# THE END."
   ]
  }
 ],
 "metadata": {
  "kernelspec": {
   "display_name": "Python 3",
   "language": "python",
   "name": "python3"
  },
  "language_info": {
   "codemirror_mode": {
    "name": "ipython",
    "version": 3
   },
   "file_extension": ".py",
   "mimetype": "text/x-python",
   "name": "python",
   "nbconvert_exporter": "python",
   "pygments_lexer": "ipython3",
   "version": "3.7.3"
  }
 },
 "nbformat": 4,
 "nbformat_minor": 2
}
